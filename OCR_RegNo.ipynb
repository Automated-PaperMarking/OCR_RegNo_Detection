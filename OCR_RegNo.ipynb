{
  "nbformat": 4,
  "nbformat_minor": 0,
  "metadata": {
    "colab": {
      "provenance": [],
      "authorship_tag": "ABX9TyPUVS+XIETL6ATYKqB2yPeZ",
      "include_colab_link": true
    },
    "kernelspec": {
      "name": "python3",
      "display_name": "Python 3"
    },
    "language_info": {
      "name": "python"
    }
  },
  "cells": [
    {
      "cell_type": "markdown",
      "metadata": {
        "id": "view-in-github",
        "colab_type": "text"
      },
      "source": [
        "<a href=\"https://colab.research.google.com/github/UmeshGayashan/OCR_RegNo_Detection/blob/main/OCR_RegNo.ipynb\" target=\"_parent\"><img src=\"https://colab.research.google.com/assets/colab-badge.svg\" alt=\"Open In Colab\"/></a>"
      ]
    },
    {
      "cell_type": "markdown",
      "source": [
        "\n",
        "\n",
        "```\n",
        "## Go to the drive and get the data\n",
        "```\n",
        "\n"
      ],
      "metadata": {
        "id": "AJz4aJd9MAs1"
      }
    },
    {
      "cell_type": "code",
      "execution_count": 10,
      "metadata": {
        "id": "7-ykXRPylGVI",
        "colab": {
          "base_uri": "https://localhost:8080/"
        },
        "outputId": "6f6c0944-21f4-40d5-e4cc-d2aa016c94f0"
      },
      "outputs": [
        {
          "output_type": "stream",
          "name": "stdout",
          "text": [
            "Drive already mounted at /content/gdrive; to attempt to forcibly remount, call drive.mount(\"/content/gdrive\", force_remount=True).\n",
            "Found 7 files:\n",
            "1. AB_1242_4321.jpg\n",
            "2. EG_2020_4433.jpg\n",
            "3. EG_4321_7885.jpg\n",
            "4. EG_3211_5687.jpg\n",
            "5. EG_5242_9321.jpg\n",
            "6. EG_5678_1234.jpg\n",
            "7. CD_5496_8753.jpg\n"
          ]
        }
      ],
      "source": [
        "# !-shell command, -q -quiet mode, -U -upgrade\n",
        "# download files and folders from Google Drive\n",
        "!pip install -qU gdown\n",
        "\n",
        "# Mount Google Drive directly\n",
        "from google.colab import drive\n",
        "drive.mount('/content/gdrive')\n",
        "\n",
        "# Verify dataset access using native path\n",
        "import os\n",
        "\n",
        "dataset_path = '/content/gdrive/MyDrive/OCR_dataset'\n",
        "if os.path.exists(dataset_path):\n",
        "    print(f\"Found {len(os.listdir(dataset_path))} files:\")\n",
        "    for idx, file in enumerate(os.listdir(dataset_path), 1):\n",
        "        print(f\"{idx}. {file}\")\n",
        "else:\n",
        "    print(\"Error: Folder not found. Check sharing permissions and folder name.\")\n"
      ]
    },
    {
      "cell_type": "code",
      "source": [],
      "metadata": {
        "id": "ciG3Fav8M1nk"
      },
      "execution_count": null,
      "outputs": []
    }
  ]
}